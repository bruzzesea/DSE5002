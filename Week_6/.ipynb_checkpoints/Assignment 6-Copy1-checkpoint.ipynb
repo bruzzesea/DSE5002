{
 "cells": [
  {
   "cell_type": "markdown",
   "id": "6b67d82d",
   "metadata": {},
   "source": [
    "# Assignment 6\n",
    "### Your Name Here\n",
    "### Date"
   ]
  },
  {
   "cell_type": "markdown",
   "id": "71503d17",
   "metadata": {},
   "source": [
    "## Question 1\n",
    "1) import the random library. \n",
    "\n",
    "2) Use random.seed(10) to initialize a pseudorandom number generator. \n",
    "\n",
    "3) Create a list of 50 random integers from 0 to 15. Call this list int_list\n",
    "\n",
    "4) Print the 10th and 30th elements of the list. \n",
    "\n",
    "You will need to use list comprehension to do this. The syntax for list comprehension is: \\<new_list> = [\\<expression> for \\<item> in \\<iterable>]. For this question your expression will be a randint generator from the random library and your iterable will be range(). Researh the documentation on how to use both functions. "
   ]
  },
  {
   "cell_type": "code",
   "execution_count": 7,
   "id": "f13c5edd",
   "metadata": {},
   "outputs": [],
   "source": [
    "# your code here\n",
    "import random\n",
    "random.seed( 10 )\n",
    "\n",
    "int_list = [random.randint(0,15) for val in range(50)]"
   ]
  },
  {
   "cell_type": "markdown",
   "id": "24125e73",
   "metadata": {},
   "source": [
    "## Question 2\n",
    "1) import the string library.\n",
    "\n",
    "2) Create the string az_upper using string.ascii_uppercase. This is a single string of uppercase letters\n",
    "\n",
    "3) Create a list of each individual letter from the string. To do this you will need to iterate over the string and append each letter to the an empty list. Call this list az_list. \n",
    "\n",
    "4) Print the list.\n",
    "\n",
    "You will need to use a for-loop for this. The syntax for this for-loop should be: \n",
    "\n",
    "for i in \\<string>:\n",
    "\n",
    "       <list operation>"
   ]
  },
  {
   "cell_type": "code",
   "execution_count": 21,
   "id": "056b69f4",
   "metadata": {},
   "outputs": [
    {
     "name": "stdout",
     "output_type": "stream",
     "text": [
      "['A', 'B', 'C', 'D', 'E', 'F', 'G', 'H', 'I', 'J', 'K', 'L', 'M', 'N', 'O', 'P', 'Q', 'R', 'S', 'T', 'U', 'V', 'W', 'X', 'Y', 'Z']\n"
     ]
    }
   ],
   "source": [
    "import string\n",
    "\n",
    "az_Upper = string.ascii_uppercase\n",
    "az_list = []\n",
    "for i in az_Upper:\n",
    "    az_list.append(i)\n",
    "\n",
    "print(az_list)"
   ]
  },
  {
   "cell_type": "code",
   "execution_count": 6,
   "id": "57fa6a4c",
   "metadata": {},
   "outputs": [
    {
     "data": {
      "text/plain": [
       "'ABCDEFGHIJKLMNOPQRSTUVWXYZ'"
      ]
     },
     "execution_count": 6,
     "metadata": {},
     "output_type": "execute_result"
    }
   ],
   "source": [
    "az_Upper"
   ]
  },
  {
   "cell_type": "markdown",
   "id": "2381a40d",
   "metadata": {},
   "source": [
    "## Question 3\n",
    "1) Create a set from 1 to 5. Call this set_1.\n",
    "\n",
    "2) Create a set from int_list. Call this set_2.\n",
    "\n",
    "3) Create a set by finding the symmetric_difference of set_1 and set_2. Call this set_3.\n",
    "\n",
    "4) What is the length of all three sets?\n",
    "\n"
   ]
  },
  {
   "cell_type": "code",
   "execution_count": 13,
   "id": "ae03b735",
   "metadata": {},
   "outputs": [],
   "source": [
    "set_1 = {1,2,3,4,5}\n",
    "set_2 = set(int_list)\n",
    "set_3 = set_1.symmetric_difference(set_2)"
   ]
  },
  {
   "cell_type": "markdown",
   "id": "56fe9514",
   "metadata": {},
   "source": [
    "## Question 4\n",
    "1) Import default dict and set the default value to 'Not Present'. Call this dict_1.\n",
    "\n",
    "2) Add `int_list`, `set_2`, and `set_3` to `dict_1` using the object names as the key names. \n",
    "\n",
    "3) Create a new dictionary, `dict_2`, using curly bracket notation with `set_1` and `az_list` as the keys and values. \n",
    "\n",
    "4) Invoke the default value of `dict_1` by trying to access the key `az_list`. Create a new set named `set_4` from the value of `dict_1['az_list']`. What is the lenght of the difference between `dict_2['az_list']` and `set_4'?\n",
    "\n",
    "5) Update `dict_2` with `dict_1`. Print the value of the key `az_list` from `dict_2`. What happened?\n",
    "\n",
    "\n",
    "\n",
    "\n"
   ]
  },
  {
   "cell_type": "code",
   "execution_count": 48,
   "id": "54fd15cc",
   "metadata": {},
   "outputs": [],
   "source": [
    "from collections import defaultdict\n",
    "def def_value():\n",
    "    return 'Not Present'\n",
    "dict_1 = defaultdict(def_value)\n",
    "dict_1['int_list'] = int_list\n",
    "dict_1['set_2'] = set_2\n",
    "dict_1['set_3'] = set_3\n",
    "dict_2 = {\n",
    "    'set_1':set_1,\n",
    "    'az_list':az_list\n",
    "}"
   ]
  },
  {
   "cell_type": "code",
   "execution_count": 49,
   "id": "d25af13d",
   "metadata": {},
   "outputs": [
    {
     "data": {
      "text/plain": [
       "'Not Present'"
      ]
     },
     "execution_count": 49,
     "metadata": {},
     "output_type": "execute_result"
    }
   ],
   "source": [
    "dict_1['az_list']"
   ]
  },
  {
   "cell_type": "code",
   "execution_count": 44,
   "id": "6b59ec50",
   "metadata": {},
   "outputs": [
    {
     "data": {
      "text/plain": [
       "dict_keys(['int_list', 'set_2', 'set_3', 'az_list'])"
      ]
     },
     "execution_count": 44,
     "metadata": {},
     "output_type": "execute_result"
    }
   ],
   "source": [
    "dict_1.keys()"
   ]
  },
  {
   "cell_type": "code",
   "execution_count": 55,
   "id": "9343abdb",
   "metadata": {},
   "outputs": [
    {
     "data": {
      "text/plain": [
       "19"
      ]
     },
     "execution_count": 55,
     "metadata": {},
     "output_type": "execute_result"
    }
   ],
   "source": [
    "set_4 = set(dict_1['az_list'].upper())\n",
    "len(set(dict_2['az_list']).difference(set_4))"
   ]
  },
  {
   "cell_type": "code",
   "execution_count": 51,
   "id": "a9cc9094",
   "metadata": {},
   "outputs": [
    {
     "data": {
      "text/plain": [
       "['A',\n",
       " 'B',\n",
       " 'C',\n",
       " 'D',\n",
       " 'E',\n",
       " 'F',\n",
       " 'G',\n",
       " 'H',\n",
       " 'I',\n",
       " 'J',\n",
       " 'K',\n",
       " 'L',\n",
       " 'M',\n",
       " 'N',\n",
       " 'O',\n",
       " 'P',\n",
       " 'Q',\n",
       " 'R',\n",
       " 'S',\n",
       " 'T',\n",
       " 'U',\n",
       " 'V',\n",
       " 'W',\n",
       " 'X',\n",
       " 'Y',\n",
       " 'Z']"
      ]
     },
     "execution_count": 51,
     "metadata": {},
     "output_type": "execute_result"
    }
   ],
   "source": [
    "dict_2['az_list']"
   ]
  },
  {
   "cell_type": "code",
   "execution_count": 46,
   "id": "ff1a510d",
   "metadata": {},
   "outputs": [],
   "source": [
    "dict_2.update(dict_1)"
   ]
  },
  {
   "cell_type": "code",
   "execution_count": 47,
   "id": "3b0f758b",
   "metadata": {},
   "outputs": [
    {
     "data": {
      "text/plain": [
       "{'set_1': {1, 2, 3, 4, 5},\n",
       " 'az_list': 'Not Present',\n",
       " 'int_list': [1,\n",
       "  13,\n",
       "  15,\n",
       "  0,\n",
       "  6,\n",
       "  14,\n",
       "  15,\n",
       "  8,\n",
       "  5,\n",
       "  1,\n",
       "  15,\n",
       "  10,\n",
       "  2,\n",
       "  7,\n",
       "  11,\n",
       "  1,\n",
       "  13,\n",
       "  4,\n",
       "  11,\n",
       "  12,\n",
       "  13,\n",
       "  9,\n",
       "  8,\n",
       "  14,\n",
       "  5,\n",
       "  9,\n",
       "  11,\n",
       "  4,\n",
       "  14,\n",
       "  7,\n",
       "  14,\n",
       "  12,\n",
       "  1,\n",
       "  0,\n",
       "  7,\n",
       "  4,\n",
       "  6,\n",
       "  9,\n",
       "  11,\n",
       "  7,\n",
       "  10,\n",
       "  14,\n",
       "  13,\n",
       "  15,\n",
       "  2,\n",
       "  10,\n",
       "  5,\n",
       "  7,\n",
       "  13,\n",
       "  7],\n",
       " 'set_2': {0, 1, 2, 4, 5, 6, 7, 8, 9, 10, 11, 12, 13, 14, 15},\n",
       " 'set_3': {0, 3, 6, 7, 8, 9, 10, 11, 12, 13, 14, 15}}"
      ]
     },
     "execution_count": 47,
     "metadata": {},
     "output_type": "execute_result"
    }
   ],
   "source": [
    "dict_2"
   ]
  },
  {
   "cell_type": "code",
   "execution_count": null,
   "id": "bd52afd6",
   "metadata": {},
   "outputs": [],
   "source": []
  }
 ],
 "metadata": {
  "kernelspec": {
   "display_name": "Python 3 (ipykernel)",
   "language": "python",
   "name": "python3"
  },
  "language_info": {
   "codemirror_mode": {
    "name": "ipython",
    "version": 3
   },
   "file_extension": ".py",
   "mimetype": "text/x-python",
   "name": "python",
   "nbconvert_exporter": "python",
   "pygments_lexer": "ipython3",
   "version": "3.9.7"
  }
 },
 "nbformat": 4,
 "nbformat_minor": 5
}
